{
 "cells": [
  {
   "cell_type": "code",
   "execution_count": 14,
   "metadata": {},
   "outputs": [],
   "source": [
    "import pyspark\n",
    "import os\n",
    "import matplotlib.pyplot as plt"
   ]
  },
  {
   "cell_type": "code",
   "execution_count": 5,
   "metadata": {},
   "outputs": [],
   "source": [
    "from pyspark.sql import SparkSession\n",
    "from pyspark.sql.functions import *\n",
    "from pyspark.sql.types import *\n",
    "from pyspark.ml.feature import Imputer, VectorAssembler, StandardScaler\n",
    "from pyspark.ml.regression import LinearRegression, DecisionTreeRegressor, RandomForestRegressor, GBTRegressor\n",
    "from pyspark.ml.evaluation import RegressionEvaluator\n",
    "from pyspark.sql.window import Window"
   ]
  },
  {
   "cell_type": "code",
   "execution_count": 6,
   "metadata": {},
   "outputs": [],
   "source": [
    "spark = SparkSession.builder.appName(\"Stock Price Prediction\").getOrCreate()"
   ]
  },
  {
   "cell_type": "code",
   "execution_count": 7,
   "metadata": {},
   "outputs": [],
   "source": [
    "companies = ['AAPL', 'MSFT', 'AMZN', 'GOOGL', 'META', 'TSLA', 'NVDA']"
   ]
  },
  {
   "cell_type": "code",
   "execution_count": 8,
   "metadata": {},
   "outputs": [],
   "source": [
    "def data_preprocessing(company):\n",
    "    df = spark.read.csv(f\"{company}.csv\", header=True, inferSchema=True)\n",
    "    w = Window.partitionBy().orderBy(\"Date\")\n",
    "    df = df.withColumn(\"lag_close_1\", lag(df.Close).over(w))\n",
    "    df = df.withColumn(\"daily_return\", (df.Close - df.Open) / df.Open)\n",
    "    df = df.withColumn(\"intra_day_volatility\", df.High - df.Low)\n",
    "    df = df.withColumn(\"daily_volatility\", df.Close - df.lag_close_1)\n",
    "    df = df.withColumn(\"7_day_avg_close\", avg(df.Close).over(w.rowsBetween(-6, 0)))\n",
    "    df = df.dropna()\n",
    "    feature_columns = [\"Open\", \"High\", \"Low\", \"Close\", \"Volume\", \"daily_return\",\n",
    "                       \"intra_day_volatility\", \"daily_volatility\", \"7_day_avg_close\"]\n",
    "    assembler = VectorAssembler(inputCols=feature_columns, outputCol=\"features\")\n",
    "    df_assembled = assembler.transform(df)\n",
    "    scaler = StandardScaler(inputCol=\"features\", outputCol=\"scaledFeatures\")\n",
    "    scaler_model = scaler.fit(df_assembled)\n",
    "    scaled_data = scaler_model.transform(df_assembled)\n",
    "    final_data = scaled_data.select(\"scaledFeatures\", col(\"Adj Close\").alias(\"label\"))\n",
    "    return final_data\n"
   ]
  },
  {
   "cell_type": "code",
   "execution_count": 9,
   "metadata": {},
   "outputs": [],
   "source": [
    "def model_training(model, train_data, test_data):\n",
    "    model = model.fit(train_data)\n",
    "    predictions = model.transform(test_data)\n",
    "    evaluator_rmse = RegressionEvaluator(labelCol=\"label\", predictionCol=\"prediction\", metricName=\"rmse\")\n",
    "    rmse = evaluator_rmse.evaluate(predictions)\n",
    "    return rmse\n"
   ]
  },
  {
   "cell_type": "code",
   "execution_count": 10,
   "metadata": {},
   "outputs": [],
   "source": [
    "results = {}"
   ]
  },
  {
   "cell_type": "code",
   "execution_count": 11,
   "metadata": {},
   "outputs": [
    {
     "name": "stdout",
     "output_type": "stream",
     "text": [
      "AAPL : Linear Regression - RMSE score : 12.129645972906863\n",
      "AAPL : Decision Tree - RMSE score : 86.63013376362115\n",
      "AAPL : Random Forest - RMSE score : 86.78508379232147\n",
      "AAPL : GBT - RMSE score : 87.6408346318461\n",
      "MSFT : Linear Regression - RMSE score : 46.9277706908987\n",
      "MSFT : Decision Tree - RMSE score : 184.85613459278397\n",
      "MSFT : Random Forest - RMSE score : 184.971228429868\n",
      "MSFT : GBT - RMSE score : 185.47273803384186\n",
      "AMZN : Linear Regression - RMSE score : 4.395605246964923e-11\n",
      "AMZN : Decision Tree - RMSE score : 56.08705725465829\n",
      "AMZN : Random Forest - RMSE score : 54.74716415261936\n",
      "AMZN : GBT - RMSE score : 53.47767382072862\n",
      "GOOGL : Linear Regression - RMSE score : 3.1596457775756857e-06\n",
      "GOOGL : Decision Tree - RMSE score : 53.49376535463721\n",
      "GOOGL : Random Forest - RMSE score : 53.62812434151932\n",
      "GOOGL : GBT - RMSE score : 53.12322010492594\n",
      "META : Linear Regression - RMSE score : 0.17601801000650485\n",
      "META : Decision Tree - RMSE score : 46.66482695450893\n",
      "META : Random Forest - RMSE score : 47.7766209522563\n",
      "META : GBT - RMSE score : 46.08377169955439\n",
      "TSLA : Linear Regression - RMSE score : 0.00800477894155037\n",
      "TSLA : Decision Tree - RMSE score : 41.99272006813013\n",
      "TSLA : Random Forest - RMSE score : 41.66187002651903\n",
      "TSLA : GBT - RMSE score : 40.14732706695521\n",
      "NVDA : Linear Regression - RMSE score : 0.1998191643813897\n",
      "NVDA : Decision Tree - RMSE score : 27.38942237598674\n",
      "NVDA : Random Forest - RMSE score : 27.39622686704954\n",
      "NVDA : GBT - RMSE score : 27.356037358832424\n"
     ]
    }
   ],
   "source": [
    "for company in companies: \n",
    "    df = data_preprocessing(company)\n",
    "    train_data = df.orderBy(\"date\").limit(int(df.count() * 0.8))\n",
    "    test_data = df.subtract(train_data)\n",
    "    linear_reg = LinearRegression(featuresCol=\"scaledFeatures\", labelCol=\"label\")\n",
    "    decision_tree = DecisionTreeRegressor(featuresCol=\"scaledFeatures\", labelCol=\"label\")\n",
    "    random_forest = RandomForestRegressor(featuresCol=\"scaledFeatures\", labelCol=\"label\")\n",
    "    gbt = GBTRegressor(featuresCol=\"scaledFeatures\", labelCol=\"label\")\n",
    "    models = {\"Linear Regression\": linear_reg, \"Decision Tree\": decision_tree, \n",
    "              \"Random Forest\": random_forest, \"GBT\": gbt}\n",
    "    results[company] = {}\n",
    "    for model_name, model in models.items():\n",
    "        rmse = model_training(model, train_data, test_data)\n",
    "        results[company][model_name] = {\"RMSE\": rmse}\n",
    "        print(f\"{company} : {model_name} - RMSE score : {rmse}\")\n"
   ]
  },
  {
   "cell_type": "code",
   "execution_count": 17,
   "metadata": {},
   "outputs": [],
   "source": [
    "def select_model(results):\n",
    "    best_model = {}\n",
    "    for company, metrics in results.items():\n",
    "        sorted_metrics = sorted(metrics.items(),key=lambda x:x[1]['RMSE'])\n",
    "        model_name, best_metric = sorted_metrics[0]\n",
    "        best_rmse = best_metric['RMSE']\n",
    "        if model_name == \"Linear Regression\" and best_rmse <= 11e-1:\n",
    "            model_name, best_metric = sorted_metrics[1]\n",
    "        best_model[company] = model_name\n",
    "    return best_model"
   ]
  },
  {
   "cell_type": "code",
   "execution_count": 19,
   "metadata": {},
   "outputs": [
    {
     "name": "stdout",
     "output_type": "stream",
     "text": [
      "AAPL : Best Model - Linear Regression\n",
      "MSFT : Best Model - Linear Regression\n",
      "AMZN : Best Model - GBT\n",
      "GOOGL : Best Model - GBT\n",
      "META : Best Model - GBT\n",
      "TSLA : Best Model - GBT\n",
      "NVDA : Best Model - GBT\n"
     ]
    }
   ],
   "source": [
    "best_models = select_model(results)\n",
    "for company, model in best_models.items():\n",
    "    print(f\"{company} : Best Model - {model}\")"
   ]
  },
  {
   "cell_type": "code",
   "execution_count": null,
   "metadata": {},
   "outputs": [],
   "source": []
  }
 ],
 "metadata": {
  "kernelspec": {
   "display_name": "stock-price-prediction",
   "language": "python",
   "name": "python3"
  },
  "language_info": {
   "codemirror_mode": {
    "name": "ipython",
    "version": 3
   },
   "file_extension": ".py",
   "mimetype": "text/x-python",
   "name": "python",
   "nbconvert_exporter": "python",
   "pygments_lexer": "ipython3",
   "version": "3.12.4"
  }
 },
 "nbformat": 4,
 "nbformat_minor": 2
}
